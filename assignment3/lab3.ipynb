{
 "cells": [
  {
   "cell_type": "code",
   "execution_count": 1,
   "metadata": {},
   "outputs": [],
   "source": [
    "from collections import deque\n",
    "from bitarray import bitarray\n",
    "from unidecode import unidecode\n",
    "import os"
   ]
  },
  {
   "cell_type": "code",
   "execution_count": 15,
   "metadata": {},
   "outputs": [],
   "source": [
    "# words only with ASCII characters\n",
    "class StaticHuffman:\n",
    "    \n",
    "    class _Node:\n",
    "        def __init__(self, weight, left=None, right=None, parent=None, letter=None):\n",
    "            self.left = left\n",
    "            self.right = right\n",
    "            self.letter = letter\n",
    "            self.parent = parent\n",
    "            self.weight = weight\n",
    "        \n",
    "    def __init__(self, text=None, file_name=None):\n",
    "        self.root = None\n",
    "        self.leafs = dict()\n",
    "        self.encodings = dict()\n",
    "        \n",
    "        if text:\n",
    "            self._build(unidecode(text))\n",
    "            if file_name:\n",
    "                self.encode_to_file(text, file_name)\n",
    "            \n",
    "    def _cache_leaf_representations(self):\n",
    "        for (l, n) in self.leafs.items():\n",
    "            e = []\n",
    "            node = n\n",
    "            while node.parent is not None:\n",
    "                if node is node.parent.left:\n",
    "                    e.append(False)\n",
    "                else:\n",
    "                    e.append(True)\n",
    "                node = node.parent\n",
    "            e = bitarray(reversed(e))\n",
    "            self.encodings[l] = e\n",
    "        \n",
    "    def _build(self, text):\n",
    "        alphabet_statistics = dict()\n",
    "        \n",
    "        for a in text:\n",
    "            if a not in alphabet_statistics:\n",
    "                alphabet_statistics[a] = 1\n",
    "            else:\n",
    "                alphabet_statistics[a] += 1\n",
    "        leafs = [self._Node(w, letter=l) for (l, w) in alphabet_statistics.items()]\n",
    "        self.leafs = {l.letter:l for l in leafs}\n",
    "        leafs.sort(key=lambda x:x.weight)\n",
    "        left = deque(leafs)\n",
    "        right = deque()\n",
    "        \n",
    "        def get_min(left, right):\n",
    "            if len(left) == 0:\n",
    "                return right.popleft()\n",
    "            if len(right) == 0:\n",
    "                return left.popleft()\n",
    "            \n",
    "            if left[0].weight <= right[0].weight:\n",
    "                return left.popleft()\n",
    "            else:\n",
    "                return right.popleft()\n",
    "            \n",
    "        # Build Huffman tree\n",
    "        while(len(left) + len(right) > 1):\n",
    "            n1 = get_min(left, right)\n",
    "            n2 = get_min(left, right)\n",
    "            top = self._Node(n1.weight + n2.weight, left=n1, right=n2)\n",
    "            n1.parent = top\n",
    "            n2.parent = top\n",
    "            right.append(top)\n",
    "        # Create encodings for each leaf\n",
    "        self._cache_leaf_representations()\n",
    "        self.root = right.popleft()\n",
    "    \n",
    "    # depricated\n",
    "    def _encode(self, c):\n",
    "        return self.leafs[c]\n",
    "    \n",
    "    def _encode_tree(self):\n",
    "        #raise NotImplementedError()\n",
    "        s = [self.root]\n",
    "        encoded_tree = bitarray()\n",
    "        \n",
    "        while s:\n",
    "            node = s.pop()\n",
    "            if node.letter is None:\n",
    "                encoded_tree.append(False)\n",
    "                s.append(node.right)\n",
    "                s.append(node.left)\n",
    "            else:\n",
    "                encoded_tree.append(True)\n",
    "                encoded_tree.frombytes(node.letter.encode())\n",
    "        return encoded_tree\n",
    "    \n",
    "    def _decode_tree(self, encoded_data):\n",
    "        if self.root is not None:\n",
    "            raise RuntimeError('Tree should be empty')\n",
    "        \n",
    "        offset = 0\n",
    "        \n",
    "        # skip padding\n",
    "        while encoded_data[offset]:\n",
    "            offset += 1\n",
    "        \n",
    "        self.root = self._Node(0)\n",
    "        s = [self.root]\n",
    "        #offset+=1\n",
    "        while s:\n",
    "            node = s.pop()\n",
    "            if encoded_data[offset]:\n",
    "                node.letter = encoded_data[offset+1:offset+9].tobytes().decode()\n",
    "                self.leafs[node.letter] = node\n",
    "                offset += 9\n",
    "            else:\n",
    "                left = self._Node(0, parent=node)\n",
    "                right = self._Node(0, parent=node)\n",
    "                \n",
    "                node.left = left\n",
    "                node.right = right\n",
    "                \n",
    "                s.append(right)\n",
    "                s.append(left)\n",
    "                offset += 1\n",
    "                \n",
    "        self._cache_leaf_representations()\n",
    "        \n",
    "        return encoded_data[offset:]\n",
    "    \n",
    "    # holds data in folowing wormat: 111..+tree+encoded_text, where 111.. is padding\n",
    "    def encode_to_file(self, text, file_name):\n",
    "        if file_name is None:\n",
    "            raise RuntimeError('Specify file_name to be the name of file to write to')\n",
    "        if self.root is None:\n",
    "            raise RuntimeError('Tre should be builded beforehand')\n",
    "            \n",
    "        with open(file_name, 'wb') as f:\n",
    "            tree_encoded = self._encode_tree()\n",
    "            encoded_text = bitarray()\n",
    "            encoded_text.encode(self.encodings, text)\n",
    "            \n",
    "            padding = 8 - (tree_encoded.length() + encoded_text.length()) % 8\n",
    "            if padding != 8:\n",
    "                tree_encoded = bitarray([True]*(padding)) + tree_encoded\n",
    "            # danger\n",
    "            (tree_encoded + encoded_text).tofile(f)\n",
    "    \n",
    "    @staticmethod\n",
    "    def decode(file):\n",
    "        with open(file, 'rb') as f:\n",
    "            encoded_data = bitarray()\n",
    "            encoded_data.fromfile(f)\n",
    "            \n",
    "            hc = StaticHuffman()\n",
    "            encoded_data = hc._decode_tree(encoded_data)\n",
    "            result = encoded_data.decode(hc.encodings)\n",
    "            return ''.join(result)"
   ]
  },
  {
   "cell_type": "code",
   "execution_count": 16,
   "metadata": {},
   "outputs": [],
   "source": [
    "h = StaticHuffman(\"aabc\", file_name='test_file')"
   ]
  },
  {
   "cell_type": "code",
   "execution_count": 17,
   "metadata": {},
   "outputs": [
    {
     "data": {
      "text/plain": [
       "'aabc'"
      ]
     },
     "execution_count": 17,
     "metadata": {},
     "output_type": "execute_result"
    }
   ],
   "source": [
    "StaticHuffman.decode('test_file')"
   ]
  },
  {
   "cell_type": "markdown",
   "metadata": {},
   "source": [
    "## Tests"
   ]
  },
  {
   "cell_type": "code",
   "execution_count": 18,
   "metadata": {},
   "outputs": [],
   "source": [
    "def test_on_file(file_name):\n",
    "    encoded_file = file_name + '_encoded'\n",
    "    with open(file_name) as f:\n",
    "        text = f.read()\n",
    "        \n",
    "        print('Encode time:')\n",
    "        %timeit h = StaticHuffman(text, file_name=encoded_file)\n",
    "        h = StaticHuffman(text, file_name=encoded_file)\n",
    "        print('Decode time: ')\n",
    "        %timeit StaticHuffman.decode(encoded_file)\n",
    "        \n",
    "        print(f'Are equal? {StaticHuffman.decode(encoded_file) == text}')\n",
    "        \n",
    "        print(f'Compresion factor is {1 - os.path.getsize(encoded_file) / os.path.getsize(file_name)}')"
   ]
  },
  {
   "cell_type": "code",
   "execution_count": 19,
   "metadata": {},
   "outputs": [
    {
     "name": "stdout",
     "output_type": "stream",
     "text": [
      "Encode time:\n",
      "515 µs ± 8.06 µs per loop (mean ± std. dev. of 7 runs, 1000 loops each)\n",
      "Decode time: \n",
      "269 µs ± 14.7 µs per loop (mean ± std. dev. of 7 runs, 1000 loops each)\n",
      "Are equal? True\n",
      "Compresion factor is 0.419103313840156\n"
     ]
    }
   ],
   "source": [
    "test_on_file('1kB_file')"
   ]
  },
  {
   "cell_type": "code",
   "execution_count": 20,
   "metadata": {},
   "outputs": [
    {
     "name": "stdout",
     "output_type": "stream",
     "text": [
      "Encode time:\n",
      "2.24 ms ± 109 µs per loop (mean ± std. dev. of 7 runs, 100 loops each)\n",
      "Decode time: \n",
      "695 µs ± 9.09 µs per loop (mean ± std. dev. of 7 runs, 1000 loops each)\n",
      "Are equal? True\n",
      "Compresion factor is 0.46096943741483354\n"
     ]
    }
   ],
   "source": [
    "test_on_file('10kB_file')"
   ]
  },
  {
   "cell_type": "code",
   "execution_count": 21,
   "metadata": {},
   "outputs": [
    {
     "name": "stdout",
     "output_type": "stream",
     "text": [
      "Encode time:\n",
      "17.4 ms ± 210 µs per loop (mean ± std. dev. of 7 runs, 100 loops each)\n",
      "Decode time: \n",
      "5.08 ms ± 60.6 µs per loop (mean ± std. dev. of 7 runs, 100 loops each)\n",
      "Are equal? True\n",
      "Compresion factor is 0.4645448746062757\n"
     ]
    }
   ],
   "source": [
    "test_on_file('100kB_file')"
   ]
  },
  {
   "cell_type": "code",
   "execution_count": 22,
   "metadata": {},
   "outputs": [
    {
     "name": "stdout",
     "output_type": "stream",
     "text": [
      "Encode time:\n",
      "168 ms ± 5.1 ms per loop (mean ± std. dev. of 7 runs, 10 loops each)\n",
      "Decode time: \n",
      "49.8 ms ± 1.39 ms per loop (mean ± std. dev. of 7 runs, 10 loops each)\n",
      "Are equal? True\n",
      "Compresion factor is 0.46557590762036327\n"
     ]
    }
   ],
   "source": [
    "test_on_file('1MB_file')"
   ]
  },
  {
   "cell_type": "markdown",
   "metadata": {},
   "source": [
    "## Adaptive Huffman "
   ]
  },
  {
   "cell_type": "code",
   "execution_count": 23,
   "metadata": {},
   "outputs": [],
   "source": [
    "class AdaptiveHuffman:\n",
    "    class _Node:\n",
    "        def __init__(self, weight, left=None, right=None, parent=None, letter=None):\n",
    "            self.left = left\n",
    "            self.right = right\n",
    "            self.letter = letter\n",
    "            self.parent = parent\n",
    "            self.weight = weight\n",
    "        \n",
    "        def __repr__(self):\n",
    "            return self.letter if self.letter else 'None'\n",
    "    \n",
    "    def __init__(self):\n",
    "        self.root = None\n",
    "        self.NYT = self._Node(0, letter='NYT')\n",
    "        self.nodes = []\n",
    "        self.leafs = dict()\n",
    "        self.leafs['NYT'] = self.NYT\n",
    "    \n",
    "    def find_leader(self, w):\n",
    "        for i in self.nodes:\n",
    "            if i.weight == w:\n",
    "                return i\n",
    "        \n",
    "    def swap(self, node1, node2):\n",
    "        idx1 = self.nodes.index(node1)\n",
    "        idx2 = self.nodes.index(node2)\n",
    "        \n",
    "        self.nodes[idx1], self.nodes[idx2] = self.nodes[idx2], self.nodes[idx1]\n",
    "        \n",
    "        \n",
    "        tmp = node1.parent\n",
    "        node1.parent = node2.parent\n",
    "        node2.parent = tmp\n",
    "        \n",
    "        def swap_branch(node1, node2):\n",
    "            if node1.parent.left is node2:\n",
    "                node1.parent.left = node1\n",
    "            else:\n",
    "                node1.parent.right = node1\n",
    "        swap_branch(node1, node2)\n",
    "        swap_branch(node2, node1)\n",
    "        \n",
    "        \n",
    "    def update(self, letter):\n",
    "        node = None\n",
    "        if letter not in self.leafs:\n",
    "            intermediate = self._Node(1, parent=self.NYT.parent)\n",
    "            \n",
    "            leaf = self._Node(1, parent=intermediate, letter=letter)\n",
    "            self.leafs[leaf.letter] = leaf\n",
    "            \n",
    "            intermediate.right = leaf\n",
    "            intermediate.left = self.NYT\n",
    "            self.NYT.parent = intermediate\n",
    "            \n",
    "            if self.root is None:\n",
    "                self.root = intermediate\n",
    "            else:\n",
    "                intermediate.parent.left = intermediate\n",
    "            \n",
    "            self.nodes.append(intermediate)\n",
    "            self.nodes.append(leaf)\n",
    "            \n",
    "            node = intermediate.parent\n",
    "        else:\n",
    "            node = self.leafs[letter]\n",
    "            \n",
    "        while node is not None:\n",
    "            leader = self.find_leader(node.weight)\n",
    "            \n",
    "            if (leader is not node) and (leader.parent is not node) and (node.parent is not leader):\n",
    "                self.swap(leader, node)\n",
    "            \n",
    "            node.weight += 1\n",
    "            node = node.parent\n",
    "    \n",
    "    def encode_leaf(self, letter):\n",
    "        e = []\n",
    "        node = self.leafs[letter]\n",
    "        while node.parent is not None:\n",
    "            if node is node.parent.left:\n",
    "                e.append(False)\n",
    "            else:\n",
    "                e.append(True)\n",
    "            node = node.parent\n",
    "        return bitarray(reversed(e))\n",
    "        \n",
    "    def encode(self, text, file_name):\n",
    "        encoded_text = bitarray()\n",
    "        text = unidecode(text)\n",
    "        for i in text:\n",
    "            if self.root == None:\n",
    "                l = bitarray()\n",
    "                l.frombytes(i.encode())\n",
    "                encoded_text += l\n",
    "            else:\n",
    "                if i in self.leafs:\n",
    "                    encoded_text += self.encode_leaf(i)\n",
    "                else:\n",
    "                    encoded_text += self.encode_leaf('NYT')\n",
    "                    l = bitarray()\n",
    "                    l.frombytes(i.encode())\n",
    "                    encoded_text += l\n",
    "            self.update(i)\n",
    "        \n",
    "        with open(file_name, 'wb') as f:\n",
    "            padding = 8 - encoded_text.length() % 8\n",
    "            \n",
    "            if padding != 8:\n",
    "                padding_bytes = bitarray()\n",
    "                nyt_bytes = self.encode_leaf('NYT')\n",
    "                while padding_bytes.length() != padding:\n",
    "                    if padding_bytes.length() + nyt_bytes.length() <= padding:\n",
    "                        padding_bytes += nyt_bytes\n",
    "                    else:\n",
    "                        padding_bytes += nyt_bytes[:(padding - padding_bytes.length())]\n",
    "                encoded_text += padding_bytes\n",
    "            \n",
    "            encoded_text.tofile(f)\n",
    "            #print(encoded_text)\n",
    "    \n",
    "    def decode(self, file_name):\n",
    "        with open(file_name, 'rb') as f:\n",
    "            result = []\n",
    "            \n",
    "            encoded_text = bitarray()\n",
    "            encoded_text.fromfile(f)\n",
    "            \n",
    "            l = encoded_text[:8]\n",
    "            result.append(l.tobytes().decode())\n",
    "            \n",
    "            offset = 8\n",
    "            self.update(l.tobytes().decode())\n",
    "            \n",
    "            node = self.root\n",
    "            \n",
    "            while offset < encoded_text.length():\n",
    "                while node.letter is None and offset < encoded_text.length():\n",
    "                    if encoded_text[offset]:\n",
    "                        node = node.right\n",
    "                    else:\n",
    "                        node = node.left\n",
    "                    offset += 1\n",
    "                \n",
    "                if node.letter is None:\n",
    "                    break\n",
    "                \n",
    "                if node.letter == 'NYT':\n",
    "                    if offset + 8 <= encoded_text.length():\n",
    "                        l = encoded_text[offset:offset+8].tobytes().decode()\n",
    "                        offset += 8\n",
    "                    else:\n",
    "                        break\n",
    "                else:\n",
    "                    l = node.letter\n",
    "                \n",
    "                node = self.root\n",
    "                \n",
    "                result.append(l)\n",
    "                self.update(l)\n",
    "                \n",
    "            return ''.join(result)"
   ]
  },
  {
   "cell_type": "code",
   "execution_count": 24,
   "metadata": {},
   "outputs": [
    {
     "data": {
      "text/plain": [
       "'aabc'"
      ]
     },
     "execution_count": 24,
     "metadata": {},
     "output_type": "execute_result"
    }
   ],
   "source": [
    "ah = AdaptiveHuffman()\n",
    "ah.encode('aabc', file_name='test_file')\n",
    "ah2 = AdaptiveHuffman()\n",
    "ah2.decode('test_file')"
   ]
  },
  {
   "cell_type": "code",
   "execution_count": 26,
   "metadata": {},
   "outputs": [],
   "source": [
    "def test_adaptive_on_file(file_name):\n",
    "    encoded_file = file_name + '_encoded'\n",
    "    with open(file_name) as f:\n",
    "        text = f.read()\n",
    "        \n",
    "        print('Encode time:')\n",
    "        h = AdaptiveHuffman()\n",
    "        %timeit AdaptiveHuffman().encode(text, file_name=encoded_file)\n",
    "        h.encode(text, file_name=encoded_file)\n",
    "        print('Decode time: ')\n",
    "        %timeit AdaptiveHuffman().decode(encoded_file)\n",
    "        \n",
    "        print(f'Are equal? {AdaptiveHuffman().decode(encoded_file) == text}')\n",
    "        \n",
    "        print(f'Compresion factor is {1 - os.path.getsize(encoded_file) / os.path.getsize(file_name)}')"
   ]
  },
  {
   "cell_type": "code",
   "execution_count": 27,
   "metadata": {},
   "outputs": [
    {
     "name": "stdout",
     "output_type": "stream",
     "text": [
      "Encode time:\n",
      "7.64 ms ± 104 µs per loop (mean ± std. dev. of 7 runs, 100 loops each)\n",
      "Decode time: \n",
      "7.31 ms ± 453 µs per loop (mean ± std. dev. of 7 runs, 100 loops each)\n",
      "Are equal? True\n",
      "Compresion factor is 0.42105263157894735\n"
     ]
    }
   ],
   "source": [
    "test_adaptive_on_file('1kB_file')"
   ]
  },
  {
   "cell_type": "code",
   "execution_count": 28,
   "metadata": {},
   "outputs": [
    {
     "name": "stdout",
     "output_type": "stream",
     "text": [
      "Encode time:\n",
      "73.2 ms ± 3.77 ms per loop (mean ± std. dev. of 7 runs, 10 loops each)\n",
      "Decode time: \n",
      "65.2 ms ± 2.88 ms per loop (mean ± std. dev. of 7 runs, 10 loops each)\n",
      "Are equal? True\n",
      "Compresion factor is 0.46048277204594124\n"
     ]
    }
   ],
   "source": [
    "test_adaptive_on_file('10kB_file')"
   ]
  },
  {
   "cell_type": "code",
   "execution_count": 29,
   "metadata": {},
   "outputs": [
    {
     "name": "stdout",
     "output_type": "stream",
     "text": [
      "Encode time:\n",
      "641 ms ± 6.66 ms per loop (mean ± std. dev. of 7 runs, 1 loop each)\n",
      "Decode time: \n",
      "608 ms ± 32.2 ms per loop (mean ± std. dev. of 7 runs, 1 loop each)\n",
      "Are equal? True\n",
      "Compresion factor is 0.4644751006738168\n"
     ]
    }
   ],
   "source": [
    "test_adaptive_on_file('100kB_file')"
   ]
  },
  {
   "cell_type": "code",
   "execution_count": 30,
   "metadata": {},
   "outputs": [
    {
     "name": "stdout",
     "output_type": "stream",
     "text": [
      "Encode time:\n",
      "6.55 s ± 366 ms per loop (mean ± std. dev. of 7 runs, 1 loop each)\n",
      "Decode time: \n",
      "5.94 s ± 150 ms per loop (mean ± std. dev. of 7 runs, 1 loop each)\n",
      "Are equal? True\n",
      "Compresion factor is 0.4655499941196287\n"
     ]
    }
   ],
   "source": [
    "test_adaptive_on_file('1MB_file')"
   ]
  },
  {
   "cell_type": "code",
   "execution_count": null,
   "metadata": {},
   "outputs": [],
   "source": []
  }
 ],
 "metadata": {
  "kernelspec": {
   "display_name": "Python 3",
   "language": "python",
   "name": "python3"
  },
  "language_info": {
   "codemirror_mode": {
    "name": "ipython",
    "version": 3
   },
   "file_extension": ".py",
   "mimetype": "text/x-python",
   "name": "python",
   "nbconvert_exporter": "python",
   "pygments_lexer": "ipython3",
   "version": "3.7.0"
  }
 },
 "nbformat": 4,
 "nbformat_minor": 2
}

{
 "cells": [
  {
   "cell_type": "markdown",
   "metadata": {},
   "source": [
    "# Naive"
   ]
  },
  {
   "cell_type": "code",
   "execution_count": 1,
   "metadata": {},
   "outputs": [],
   "source": [
    "def naive_search(s, pattern):\n",
    "    m = len(pattern)\n",
    "    res = []\n",
    "    for i in range(0, len(s) - m+1):\n",
    "        if s[i:i+m] == pattern:\n",
    "            res.append(i)  \n",
    "    return res"
   ]
  },
  {
   "cell_type": "code",
   "execution_count": 2,
   "metadata": {},
   "outputs": [],
   "source": [
    "naive_search(\"asasasasas\", \"asas\")"
   ]
  },
  {
   "cell_type": "markdown",
   "metadata": {},
   "source": [
    "# Finite-state machine"
   ]
  },
  {
   "cell_type": "code",
   "execution_count": 3,
   "metadata": {},
   "outputs": [],
   "source": [
    "def transition_table(pattern):\n",
    "    m = len(pattern)\n",
    "    tr = [{} for _ in range(m+1)]\n",
    "    alphabet = set(pattern)\n",
    "    \n",
    "    for a in alphabet:\n",
    "        tr[0][a] = 0\n",
    "    tr[0][pattern[0]] = 1\n",
    "    \n",
    "    lps = 0\n",
    "    \n",
    "    for i in range(1, m+1):\n",
    "        \n",
    "        for a in alphabet:\n",
    "            tr[i][a] = tr[lps][a]\n",
    "        \n",
    "        if i < m:\n",
    "            tr[i][pattern[i]] = i+1\n",
    "            lps = tr[lps][pattern[i]]\n",
    "    return tr"
   ]
  },
  {
   "cell_type": "code",
   "execution_count": 4,
   "metadata": {},
   "outputs": [],
   "source": [
    "def fine_state_machine_search(s, pattern, Q=None):\n",
    "    if Q is None:\n",
    "        Q = transition_table(pattern)\n",
    "    \n",
    "    q0 = 0\n",
    "    q = q0\n",
    "    a = len(pattern)\n",
    "    result = []\n",
    "    \n",
    "    m = len(pattern)\n",
    "    \n",
    "    for idx, c in enumerate(s):\n",
    "        q = q0 if c not in Q[q] else Q[q][c]\n",
    "        if q == a:\n",
    "            result.append(idx - m + 1)\n",
    "    return result"
   ]
  },
  {
   "cell_type": "code",
   "execution_count": 5,
   "metadata": {},
   "outputs": [
    {
     "data": {
      "text/plain": [
       "[0, 2, 4, 6]"
      ]
     },
     "execution_count": 5,
     "metadata": {},
     "output_type": "execute_result"
    }
   ],
   "source": [
    "fine_state_machine_search(\"asasasasas\", \"asas\")"
   ]
  },
  {
   "cell_type": "markdown",
   "metadata": {},
   "source": [
    "# KMP"
   ]
  },
  {
   "cell_type": "code",
   "execution_count": 6,
   "metadata": {},
   "outputs": [],
   "source": [
    "def prefix_function(pattern):\n",
    "    pi = [0 for _ in range(len(pattern))]\n",
    "    \n",
    "    last_prefix = 0\n",
    "    for i in range(1, len(pattern)):\n",
    "        while last_prefix > 0 and pattern[last_prefix] != pattern[i]:\n",
    "            last_prefix = pi[last_prefix - 1]\n",
    "        \n",
    "        if pattern[last_prefix] == pattern[i]:\n",
    "            last_prefix += 1\n",
    "        \n",
    "        pi[i] = last_prefix\n",
    "    \n",
    "    return pi\n",
    "\n",
    "def kmp_search(s, pattern, pi = None):\n",
    "    \n",
    "    if pi is None:\n",
    "        pi = prefix_function(pattern)\n",
    "    \n",
    "    result = []\n",
    "    last_prefix = 0\n",
    "    m = len(pattern)\n",
    "    \n",
    "    for idx, a in enumerate(s):\n",
    "        while last_prefix > 0 and pattern[last_prefix] != a:\n",
    "            last_prefix = pi[last_prefix - 1]\n",
    "        \n",
    "        if pattern[last_prefix] == a:\n",
    "            last_prefix += 1\n",
    "            \n",
    "            if last_prefix == m:\n",
    "                result.append(idx + 1 - m)\n",
    "                last_prefix = pi[last_prefix - 1]\n",
    "        \n",
    "    return result"
   ]
  },
  {
   "cell_type": "code",
   "execution_count": 7,
   "metadata": {},
   "outputs": [
    {
     "data": {
      "text/plain": [
       "[0, 2, 4, 6]"
      ]
     },
     "execution_count": 7,
     "metadata": {},
     "output_type": "execute_result"
    }
   ],
   "source": [
    "kmp_search(\"asasasasas\", \"asas\")"
   ]
  },
  {
   "cell_type": "code",
   "execution_count": 8,
   "metadata": {},
   "outputs": [],
   "source": [
    "def test_on_document(document_name, pattern, patern_search):\n",
    "    with open(document_name) as f:\n",
    "        text = f.read()\n",
    "        \n",
    "        %timeit patern_search(text, pattern)\n",
    "        result = patern_search(text, pattern)\n",
    "        return result"
   ]
  },
  {
   "cell_type": "code",
   "execution_count": 9,
   "metadata": {},
   "outputs": [
    {
     "name": "stdout",
     "output_type": "stream",
     "text": [
      "naive search\n",
      "38.8 ms ± 295 µs per loop (mean ± std. dev. of 7 runs, 10 loops each)\n"
     ]
    }
   ],
   "source": [
    "print('naive search')\n",
    "result_naive = test_on_document('ustawa.txt', 'art', naive_search)"
   ]
  },
  {
   "cell_type": "code",
   "execution_count": 10,
   "metadata": {},
   "outputs": [
    {
     "name": "stdout",
     "output_type": "stream",
     "text": [
      "finite-state machine search\n",
      "25.6 ms ± 2.36 ms per loop (mean ± std. dev. of 7 runs, 10 loops each)\n"
     ]
    }
   ],
   "source": [
    "print('finite-state machine search')\n",
    "result_automat = test_on_document('ustawa.txt', 'art', fine_state_machine_search)"
   ]
  },
  {
   "cell_type": "code",
   "execution_count": 11,
   "metadata": {},
   "outputs": [
    {
     "name": "stdout",
     "output_type": "stream",
     "text": [
      "kmp search\n",
      "25.9 ms ± 773 µs per loop (mean ± std. dev. of 7 runs, 10 loops each)\n"
     ]
    }
   ],
   "source": [
    "print('kmp search')\n",
    "result_kmp = test_on_document('ustawa.txt', 'art', kmp_search)"
   ]
  },
  {
   "cell_type": "code",
   "execution_count": 12,
   "metadata": {},
   "outputs": [
    {
     "data": {
      "text/plain": [
       "True"
      ]
     },
     "execution_count": 12,
     "metadata": {},
     "output_type": "execute_result"
    }
   ],
   "source": [
    "result_naive == result_automat == result_kmp"
   ]
  },
  {
   "cell_type": "code",
   "execution_count": 13,
   "metadata": {},
   "outputs": [
    {
     "name": "stdout",
     "output_type": "stream",
     "text": [
      "48.8 s ± 1 s per loop (mean ± std. dev. of 3 runs, 1 loop each)\n"
     ]
    }
   ],
   "source": [
    "with open('wikipedia-tail-kruszwil.txt') as f:\n",
    "    text = f.read()\n",
    "    pattern = 'kruszwil'\n",
    "    %timeit -n1 -r3 naive_search(text, pattern)"
   ]
  },
  {
   "cell_type": "code",
   "execution_count": 14,
   "metadata": {},
   "outputs": [
    {
     "name": "stdout",
     "output_type": "stream",
     "text": [
      "32.8 s ± 29.9 ms per loop (mean ± std. dev. of 3 runs, 1 loop each)\n"
     ]
    }
   ],
   "source": [
    "with open('wikipedia-tail-kruszwil.txt') as f:\n",
    "    text = f.read()\n",
    "    pattern = 'kruszwil'\n",
    "    %timeit -n1 -r3 kmp_search(text, pattern)"
   ]
  },
  {
   "cell_type": "code",
   "execution_count": 15,
   "metadata": {},
   "outputs": [
    {
     "name": "stdout",
     "output_type": "stream",
     "text": [
      "36.1 s ± 74.6 ms per loop (mean ± std. dev. of 3 runs, 1 loop each)\n"
     ]
    }
   ],
   "source": [
    "with open('wikipedia-tail-kruszwil.txt') as f:\n",
    "    text = f.read()\n",
    "    pattern = 'kruszwil'\n",
    "    %timeit -n1 -r3 fine_state_machine_search(text, pattern)"
   ]
  },
  {
   "cell_type": "markdown",
   "metadata": {},
   "source": [
    "# Worst case naive\n",
    "\n",
    "Worst case for naive algorithm is long text with long pattern which is almost match everywhere"
   ]
  },
  {
   "cell_type": "code",
   "execution_count": 16,
   "metadata": {},
   "outputs": [],
   "source": [
    "def test(text, patter, func):\n",
    "    %timeit func(text, pattern)"
   ]
  },
  {
   "cell_type": "code",
   "execution_count": 17,
   "metadata": {},
   "outputs": [],
   "source": [
    "text = 'a'*600000\n",
    "pattern = 'a' * 10000 + 'b'"
   ]
  },
  {
   "cell_type": "code",
   "execution_count": 18,
   "metadata": {},
   "outputs": [
    {
     "name": "stdout",
     "output_type": "stream",
     "text": [
      "401 ms ± 6.82 ms per loop (mean ± std. dev. of 7 runs, 1 loop each)\n"
     ]
    }
   ],
   "source": [
    "test(text, pattern, naive_search)"
   ]
  },
  {
   "cell_type": "code",
   "execution_count": 19,
   "metadata": {},
   "outputs": [
    {
     "name": "stdout",
     "output_type": "stream",
     "text": [
      "172 ms ± 691 µs per loop (mean ± std. dev. of 7 runs, 10 loops each)\n"
     ]
    }
   ],
   "source": [
    "test(text, pattern, kmp_search)"
   ]
  },
  {
   "cell_type": "code",
   "execution_count": 20,
   "metadata": {},
   "outputs": [
    {
     "name": "stdout",
     "output_type": "stream",
     "text": [
      "74.6 ms ± 320 µs per loop (mean ± std. dev. of 7 runs, 10 loops each)\n"
     ]
    }
   ],
   "source": [
    "test(text, pattern, fine_state_machine_search)"
   ]
  },
  {
   "cell_type": "markdown",
   "metadata": {},
   "source": [
    "# Long preprocessing\n",
    "\n",
    "Worst case for finite-state machine preprocessing is long pattern with large alphabet"
   ]
  },
  {
   "cell_type": "code",
   "execution_count": 21,
   "metadata": {},
   "outputs": [],
   "source": [
    "# this is a pangram (contains all letters from english alphabet)\n",
    "pattern = 'The quick brown fox jumps over the lazy dog' "
   ]
  },
  {
   "cell_type": "code",
   "execution_count": 22,
   "metadata": {},
   "outputs": [
    {
     "name": "stdout",
     "output_type": "stream",
     "text": [
      "6.33 µs ± 16.6 ns per loop (mean ± std. dev. of 7 runs, 100000 loops each)\n"
     ]
    }
   ],
   "source": [
    "%timeit prefix_function(pattern)"
   ]
  },
  {
   "cell_type": "code",
   "execution_count": 23,
   "metadata": {},
   "outputs": [
    {
     "name": "stdout",
     "output_type": "stream",
     "text": [
      "5.02 ms ± 26.8 µs per loop (mean ± std. dev. of 7 runs, 100 loops each)\n"
     ]
    }
   ],
   "source": [
    "%timeit transition_table(patter)"
   ]
  },
  {
   "cell_type": "code",
   "execution_count": null,
   "metadata": {},
   "outputs": [],
   "source": []
  }
 ],
 "metadata": {
  "kernelspec": {
   "display_name": "Python 3",
   "language": "python",
   "name": "python3"
  },
  "language_info": {
   "codemirror_mode": {
    "name": "ipython",
    "version": 3
   },
   "file_extension": ".py",
   "mimetype": "text/x-python",
   "name": "python",
   "nbconvert_exporter": "python",
   "pygments_lexer": "ipython3",
   "version": "3.7.0"
  }
 },
 "nbformat": 4,
 "nbformat_minor": 2
}
